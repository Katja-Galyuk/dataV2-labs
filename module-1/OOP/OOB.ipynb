{
 "cells": [
  {
   "cell_type": "markdown",
   "metadata": {},
   "source": [
    "# Challenge 1"
   ]
  },
  {
   "cell_type": "markdown",
   "metadata": {},
   "source": [
    "Define a method/function that removes from a given array of integers all the values contained in a second array.\n",
    "\n",
    "\n",
    "l = List()\n",
    "\n",
    "integer_list =  [1, 1, 2 ,3 ,1 ,2 ,3 ,4]\n",
    "values_list = [1, 3]\n",
    "l.remove_(integer_list, values_list) == [2, 2, 4]\n",
    "\n",
    "integer_list = [1, 1, 2 ,3 ,1 ,2 ,3 ,4, 4, 3 ,5, 6, 7, 2, 8]\n",
    "lst = [1, 3, 4, 2]\n",
    "l.remove_(integer_list, values_list) == [5, 6 ,7 ,8]\n",
    "\n",
    "integer_list = [8, 2, 7, 2, 3, 4, 6, 5, 4, 4, 1, 2 , 3]\n",
    "lst = [2, 4, 3]\n",
    "l.remove_(integer_list, values_list) == [8, 7, 6, 5, 1]''''''\n",
    "\n",
    "\n",
    "\n",
    "\n",
    "\n"
   ]
  },
  {
   "cell_type": "code",
   "execution_count": null,
   "metadata": {},
   "outputs": [],
   "source": [
    "class List:\n",
    "    def __init__(self, integer_list, values_list):\n",
    "        self.integer_list = integer_list\n",
    "        self.values_list = values_list\n",
    "    \n",
    "    def remove__(self):\n",
    "        return [x for x in self.integer_list if x not in self.values_list]\n",
    "    \n",
    "integer_list =  [1, 1, 2 ,3 ,1 ,2 ,3 ,4]\n",
    "values_list = [1, 3]\n",
    "\n",
    "List(integer_list, values_list).remove__()"
   ]
  },
  {
   "cell_type": "markdown",
   "metadata": {},
   "source": [
    "# Challenge 2"
   ]
  },
  {
   "cell_type": "markdown",
   "metadata": {},
   "source": [
    "We need a method in the List Class that may count specific digits from a given list of integers. \n",
    "This marked digits will be given in a second list. \n",
    "The method .count_spec_digits()/.countSpecDigits() will accept two arguments, \n",
    "a list of an uncertain amount of integers integers_lists/integersLists\n",
    "(and of an uncertain amount of digits, too) and a second list, digits_list/digitsList that has the\n",
    "specific digits to count which length cannot be be longer than 10 (It's obvious, we've got ten digits). \n",
    "The method will output a list of tuples, each tuple having two elements, \n",
    "the first one will be a digit to count, and second one, its corresponding total \n",
    "frequency in all the integers of the first list. This list of tuples should be ordered with the same order \n",
    "that the digits have in digitsList\n",
    "l = List()\n",
    "\n",
    "integers_list =  [1, 1, 2 ,3 ,1 ,2 ,3 ,4]\n",
    "digits_list = [1, 3]\n",
    "l.count_spec_digits(integers_list, digits_list) == [(1, 3), (3, 2)]\n",
    "\n",
    "integers_list = [-18, -31, 81, -19, 111, -888]\n",
    "digits_list = [1, 8, 4]\n",
    "l.count_spec_digits(integers_list, digits_list) == [(1, 7), (8, 5), (4, 0)]\n",
    "\n",
    "integers_list = [-77, -65, 56, -79, 6666, 222]\n",
    "digits_list = [1, 8, 4]\n",
    "l.count_spec_digits(integers_list, digits_list) == [(1, 0), (8, 0), (4, 0)]\n"
   ]
  },
  {
   "cell_type": "code",
   "execution_count": null,
   "metadata": {},
   "outputs": [],
   "source": [
    "class List:\n",
    "    \n",
    "    def __init__(self, integer_list, digits_list):\n",
    "        self.integer_list = integer_list\n",
    "        self.digits_list = digits_list\n",
    "    \n",
    "    def count_spec_digits(self, integers_list, digits_list):\n",
    "        to_return = []\n",
    "        for el in digits_list:\n",
    "            freq_count = integers_list.count(el)\n",
    "            spec_digits = (el, freq_count)\n",
    "            to_return.append(spec_digits)       \n",
    "        \n",
    "        return to_return\n",
    "    \n",
    "integers_list = [1, 1, 2 ,3 ,1 ,2 ,3 ,4] \n",
    "digits_list = [1, 3] \n",
    "\n",
    "List(integers_list, digits_list).count_spec_digits()"
   ]
  },
  {
   "cell_type": "markdown",
   "metadata": {},
   "source": [
    "# Challenge 3\n",
    "\n",
    "Count the number of occurrences of each character and return it as a list of tuples in order of appearance.\n",
    "\n",
    "Example:\n",
    "\n",
    "ordered_count(\"abracadabra\") == [('a', 5), ('b', 2), ('r', 2), ('c', 1), ('d', 1)]"
   ]
  },
  {
   "cell_type": "code",
   "execution_count": null,
   "metadata": {},
   "outputs": [],
   "source": [
    "\n",
    "word = 'abracadabra'\n",
    "\n",
    "def ordered_count(word):\n",
    "    list_of_tuples = []\n",
    "    \n",
    "    for char in word:\n",
    "        one_tuple = (char, word.count(char))\n",
    "        list_of_tuples.append(one_tuple)\n",
    "    print(list(set(list_of_tuples)))\n",
    "    \n",
    "    sorted_by_counter = sorted(list_of_tuples, key=lambda tup: tup[1], reverse = True)\n",
    "    return list_of_tuples\n",
    "    \n",
    "print(ordered_count(\"abracadabra\"))\n",
    "\n"
   ]
  }
 ],
 "metadata": {
  "kernelspec": {
   "display_name": "Python 3",
   "language": "python",
   "name": "python3"
  },
  "language_info": {
   "codemirror_mode": {
    "name": "ipython",
    "version": 3
   },
   "file_extension": ".py",
   "mimetype": "text/x-python",
   "name": "python",
   "nbconvert_exporter": "python",
   "pygments_lexer": "ipython3",
   "version": "3.7.3"
  }
 },
 "nbformat": 4,
 "nbformat_minor": 2
}
