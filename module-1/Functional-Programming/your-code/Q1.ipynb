{
 "cells": [
  {
   "cell_type": "markdown",
   "metadata": {},
   "source": [
    "In the cell below, create a Python function that wraps your previous solution for the Bag of Words lab.\n",
    "\n",
    "Requirements:\n",
    "\n",
    "1. Your function should accept the following parameters:\n",
    "    * `docs` [REQUIRED] - array of document paths.\n",
    "    * `stop_words` [OPTIONAL] - array of stop words. The default value is an empty array.\n",
    "\n",
    "1. Your function should return a Python object that contains the following:\n",
    "    * `bag_of_words` - array of strings of normalized unique words in the corpus.\n",
    "    * `term_freq` - array of the term-frequency vectors."
   ]
  },
  {
   "cell_type": "code",
   "execution_count": 2,
   "metadata": {},
   "outputs": [],
   "source": [
    "# Import required librarier\n",
    "import re\n",
    "\n",
    "def get_bow_from_docs(docs, stop_words=[]):\n",
    "    \n",
    "    # In the function, first define the variables you will use such as `corpus`, `bag_of_words`, and `term_freq`.\n",
    "    corpus = []\n",
    "    bag_of_words = []\n",
    "    term_freq = []\n",
    "    \n",
    "    \"\"\"\n",
    "    Loop `docs` and read the content of each doc into a string in `corpus`.\n",
    "    Remember to convert the doc content to lowercases and remove punctuation.\n",
    "    \"\"\"\n",
    "    corpus = [re.sub('\\W','',s).lower() for d in docs for s in d.split()]\n",
    "    \n",
    "    \"\"\"\n",
    "    Loop `corpus`. Append the terms in each doc into the `bag_of_words` array. The terms in `bag_of_words` \n",
    "    should be unique which means before adding each term you need to check if it's already added to the array.\n",
    "    In addition, check if each term is in the `stop_words` array. Only append the term to `bag_of_words`\n",
    "    if it is not a stop word.\n",
    "    \"\"\"    \n",
    "    bag_of_words = list(set(corpus) - set(stop_words))\n",
    "    \n",
    "    \"\"\"\n",
    "    Loop `corpus` again. For each doc string, count the number of occurrences of each term in `bag_of_words`. \n",
    "    Create an array for each doc's term frequency and append it to `term_freq`.\n",
    "    \"\"\"\n",
    "    for d in docs:\n",
    "        clean_words = [re.sub('\\W','',s).lower() for s in d.split()]\n",
    "        word_count = []\n",
    "        for w in bag_of_words:\n",
    "            if w in clean_words:\n",
    "                 word_count.append(1)\n",
    "            else:\n",
    "                 word_count.append(0)\n",
    "        term_freq.append(word_count)\n",
    "    \n",
    "    # Now return your output as an object\n",
    "    return {\n",
    "        \"bag_of_words\": bag_of_words,\n",
    "        \"term_freq\": term_freq\n",
    "    }"
   ]
  },
  {
   "cell_type": "markdown",
   "metadata": {},
   "source": [
    "Test your function without stop words. You should see the output like below:\n",
    "\n",
    "```{'bag_of_words': ['ironhack', 'is', 'cool', 'i', 'love', 'am', 'a', 'student', 'at'], 'term_freq': [[1, 1, 1, 0, 0, 0, 0, 0, 0], [1, 0, 0, 1, 1, 0, 0, 0, 0], [1, 0, 0, 1, 0, 1, 1, 1, 1]]}```"
   ]
  },
  {
   "cell_type": "code",
   "execution_count": 3,
   "metadata": {},
   "outputs": [
    {
     "name": "stdout",
     "output_type": "stream",
     "text": [
      "{'bag_of_words': ['cool', 'love', 'student', 'am', 'i', 'at', 'a', 'ironhack', 'is'], 'term_freq': [[1, 0, 0, 0, 0, 0, 0, 1, 1], [0, 1, 0, 0, 1, 0, 0, 1, 0], [0, 0, 1, 1, 1, 1, 1, 1, 0]]}\n"
     ]
    }
   ],
   "source": [
    "# Define doc paths array\n",
    "doc1 = 'Ironhack is cool.'\n",
    "doc2 = 'I love Ironhack.'\n",
    "doc3 = 'I am a student at Ironhack.'\n",
    "docs = [doc1,doc2,doc3]\n",
    "\n",
    "# Obtain BoW from your function\n",
    "bow = get_bow_from_docs(docs)\n",
    "\n",
    "# Print BoW\n",
    "print(bow)"
   ]
  },
  {
   "cell_type": "markdown",
   "metadata": {},
   "source": [
    "If your attempt above is successful, nice work done!\n",
    "\n",
    "Now test your function again with the stop words. In the previous lab we defined the stop words in a large array. In this lab, we'll import the stop words from Scikit-Learn."
   ]
  },
  {
   "cell_type": "code",
   "execution_count": 4,
   "metadata": {},
   "outputs": [
    {
     "name": "stdout",
     "output_type": "stream",
     "text": [
      "frozenset({'became', 'eg', 'everything', 'neither', 'others', 'thereupon', 'top', 'per', 'much', 'cant', 'well', 'throughout', 'must', 'once', 'part', 'third', 'had', 'hereafter', 'out', 'and', 'co', 'thus', 'because', 'rather', 'serious', 'amount', 'at', 'can', 'upon', 'someone', 'you', 'could', 'although', 'whenever', 'anyway', 'since', 'full', 'twelve', 'around', 'together', 'after', 'several', 'more', 'its', 'whole', 'also', 'whence', 'being', 'it', 'keep', 'hereby', 'ltd', 'have', 'back', 'how', 'put', 'elsewhere', 'himself', 'beside', 'becomes', 'where', 'them', 'each', 'us', 'somehow', 'few', 'five', 'own', 'least', 'six', 'they', 'our', 'done', 'see', 'do', 'hers', 'under', 'above', 'what', 'enough', 'thin', 'while', 'off', 'until', 'into', 'system', 'without', 'hereupon', 'along', 'yourself', 'same', 'most', 'your', 'who', 'take', 'front', 'within', 'thereafter', 'has', 'or', 'via', 'etc', 'almost', 'nowhere', 'themselves', 'next', 'my', 'cry', 'wherein', 'fill', 'itself', 'name', 'whereupon', 'over', 'whose', 'forty', 'will', 'fire', 'sometime', 'wherever', 'twenty', 'inc', 'seemed', 'seeming', 'seem', 'been', 'except', 'thick', 'then', 'between', 'ourselves', 'move', 'am', 'eleven', 'indeed', 'before', 'whereas', 'describe', 'so', 'ours', 'herein', 'may', 'for', 'these', 'sometimes', 'latterly', 'anything', 'that', 'latter', 'due', 'in', 'perhaps', 'which', 'seems', 'therefore', 'de', 'whoever', 'whereafter', 'are', 'please', 'four', 'namely', 'yet', 'otherwise', 'their', 'on', 'here', 'again', 'with', 'when', 'only', 'less', 'would', 'none', 'was', 'whereby', 'last', 'a', 'but', 'thence', 'no', 'sincere', 'as', 'give', 'from', 'moreover', 'never', 'should', 'might', 'yours', 'thereby', 'nine', 'always', 'made', 'all', 'behind', 'alone', 'beyond', 'toward', 'thru', 'bottom', 'amongst', 'fifteen', 'during', 'there', 'to', 'up', 'interest', 'many', 'beforehand', 'mine', 'about', 'she', 'another', 'very', 'two', 'any', 'this', 'three', 'myself', 'go', 'become', 'already', 'against', 'find', 'hence', 're', 'whether', 'sixty', 'down', 'were', 'such', 'though', 'those', 'nor', 'now', 'towards', 'becoming', 'mostly', 'her', 'nobody', 'found', 'him', 'noone', 'further', 'be', 'empty', 'something', 'through', 'bill', 'couldnt', 'ie', 'mill', 'meanwhile', 'therein', 'across', 'too', 'first', 'nevertheless', 'everywhere', 'the', 'afterwards', 'why', 'former', 'side', 'else', 'we', 'he', 'below', 'formerly', 'show', 'than', 'fifty', 'some', 'ten', 'whom', 'whatever', 'not', 'ever', 'his', 'get', 'onto', 'besides', 'whither', 'hundred', 'by', 'still', 'even', 'somewhere', 'hasnt', 'is', 'con', 'detail', 'either', 'eight', 'everyone', 'other', 'however', 'an', 'both', 'of', 'among', 'i', 'me', 'anywhere', 'every', 'nothing', 'call', 'un', 'anyhow', 'often', 'herself', 'anyone', 'if', 'one', 'yourselves', 'amoungst', 'cannot'})\n"
     ]
    },
    {
     "name": "stderr",
     "output_type": "stream",
     "text": [
      "/Users/katja/anaconda3/lib/python3.7/site-packages/sklearn/utils/deprecation.py:144: FutureWarning: The sklearn.feature_extraction.stop_words module is  deprecated in version 0.22 and will be removed in version 0.24. The corresponding classes / functions should instead be imported from sklearn.feature_extraction.text. Anything that cannot be imported from sklearn.feature_extraction.text is now part of the private API.\n",
      "  warnings.warn(message, FutureWarning)\n"
     ]
    }
   ],
   "source": [
    "from sklearn.feature_extraction import stop_words\n",
    "print(stop_words.ENGLISH_STOP_WORDS)"
   ]
  },
  {
   "cell_type": "markdown",
   "metadata": {},
   "source": [
    "You should have seen a large list of words that looks like:\n",
    "\n",
    "```frozenset({'across', 'mine', 'cannot', ...})```\n",
    "\n",
    "`frozenset` is a type of Python object that is immutable. In this lab you can use it just like an array without conversion."
   ]
  },
  {
   "cell_type": "markdown",
   "metadata": {},
   "source": [
    "Next, test your function with supplying `stop_words.ENGLISH_STOP_WORDS` as the second parameter."
   ]
  },
  {
   "cell_type": "code",
   "execution_count": 5,
   "metadata": {},
   "outputs": [
    {
     "name": "stdout",
     "output_type": "stream",
     "text": [
      "{'bag_of_words': ['cool', 'student', 'love', 'ironhack'], 'term_freq': [[1, 0, 0, 1], [0, 0, 1, 1], [0, 1, 0, 1]]}\n"
     ]
    }
   ],
   "source": [
    "bow = get_bow_from_docs(docs, stop_words.ENGLISH_STOP_WORDS)\n",
    "\n",
    "print(bow)"
   ]
  },
  {
   "cell_type": "markdown",
   "metadata": {},
   "source": [
    "You should have seen:\n",
    "\n",
    "```{'bag_of_words': ['ironhack', 'cool', 'love', 'student'], 'term_freq': [[1, 1, 0, 0], [1, 0, 1, 0], [1, 0, 0, 1]]}```"
   ]
  }
 ],
 "metadata": {
  "kernelspec": {
   "display_name": "Python 3",
   "language": "python",
   "name": "python3"
  },
  "language_info": {
   "codemirror_mode": {
    "name": "ipython",
    "version": 3
   },
   "file_extension": ".py",
   "mimetype": "text/x-python",
   "name": "python",
   "nbconvert_exporter": "python",
   "pygments_lexer": "ipython3",
   "version": "3.7.3"
  }
 },
 "nbformat": 4,
 "nbformat_minor": 2
}
