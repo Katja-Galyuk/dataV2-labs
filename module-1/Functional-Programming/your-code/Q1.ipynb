{
 "cells": [
  {
   "cell_type": "markdown",
   "metadata": {},
   "source": [
    "In the cell below, create a Python function that wraps your previous solution for the Bag of Words lab.\n",
    "\n",
    "Requirements:\n",
    "\n",
    "1. Your function should accept the following parameters:\n",
    "    * `docs` [REQUIRED] - array of document paths.\n",
    "    * `stop_words` [OPTIONAL] - array of stop words. The default value is an empty array.\n",
    "\n",
    "1. Your function should return a Python object that contains the following:\n",
    "    * `bag_of_words` - array of strings of normalized unique words in the corpus.\n",
    "    * `term_freq` - array of the term-frequency vectors."
   ]
  },
  {
   "cell_type": "code",
   "execution_count": 1,
   "metadata": {},
   "outputs": [],
   "source": [
    "# Import required librarier\n",
    "import re\n",
    "\n",
    "def get_bow_from_docs(docs, stop_words = []):\n",
    "    \n",
    "    # In the function, first define the variables you will use such as `corpus`, `bag_of_words`, and `term_freq`.\n",
    "    \n",
    "    \"\"\"\n",
    "    Loop `docs` and read the content of each doc into a string in `corpus`.\n",
    "    Remember to convert the doc content to lowercases and remove punctuation.\n",
    "    \"\"\"\n",
    "    \n",
    "    corpus = [re.sub('\\W','',s).lower() for d in docs for s in d.split()]\n",
    "\n",
    "    \n",
    "    \"\"\"\n",
    "    Loop `corpus`. Append the terms in each doc into the `bag_of_words` array. The terms in `bag_of_words` \n",
    "    should be unique which means before adding each term you need to check if it's already added to the array.\n",
    "    In addition, check if each term is in the `stop_words` array. Only append the term to `bag_of_words`\n",
    "    if it is not a stop word.\n",
    "    \"\"\"\n",
    "    \n",
    "    bag_of_words = []\n",
    "    for word in corpus:\n",
    "        if word not in bag_of_words and word not in stop_words:\n",
    "            bag_of_words.append(word)\n",
    "\n",
    "\n",
    "    \"\"\"\n",
    "    Loop `corpus` again. For each doc string, count the number of occurrences of each term in `bag_of_words`. \n",
    "    Create an array for each doc's term frequency and append it to `term_freq`.\n",
    "    \"\"\"\n",
    "    \n",
    "    term_freq = []\n",
    "    for doc in docs:\n",
    "        doc = re.sub('\\W',' ',doc).lower().split()\n",
    "        temp_freq = [0] * len(bag_of_words)\n",
    "        for i in range(len(bag_of_words)):\n",
    "            term = bag_of_words[i]\n",
    "            temp_freq[i] = doc.count(term)\n",
    "\n",
    "        term_freq.append(temp_freq)\n",
    "    \n",
    "    \n",
    "    # Now return your output as an object\n",
    "    return {\n",
    "        \"bag_of_words\": bag_of_words,\n",
    "        \"term_freq\": term_freq\n",
    "    }"
   ]
  },
  {
   "cell_type": "markdown",
   "metadata": {},
   "source": [
    "Test your function without stop words. You should see the output like below:\n",
    "\n",
    "```{'bag_of_words': ['ironhack', 'is', 'cool', 'i', 'love', 'am', 'a', 'student', 'at'], 'term_freq': [[1, 1, 1, 0, 0, 0, 0, 0, 0], [1, 0, 0, 1, 1, 0, 0, 0, 0], [1, 0, 0, 1, 0, 1, 1, 1, 1]]}```"
   ]
  },
  {
   "cell_type": "code",
   "execution_count": 2,
   "metadata": {},
   "outputs": [
    {
     "name": "stdout",
     "output_type": "stream",
     "text": [
      "{'bag_of_words': ['ironhack', 'is', 'cool', 'i', 'love', 'am', 'a', 'student', 'at'], 'term_freq': [[1, 1, 1, 0, 0, 0, 0, 0, 0], [1, 0, 0, 1, 1, 0, 0, 0, 0], [1, 0, 0, 1, 0, 1, 1, 1, 1]]}\n"
     ]
    }
   ],
   "source": [
    "# Define doc paths array\n",
    "doc1 = \"Ironhack is cool.\"\n",
    "doc2 = \"I love Ironhack.\"\n",
    "doc3 = \"I am a student at Ironhack.\"\n",
    "docs = [doc1, doc2, doc3]\n",
    "\n",
    "# Obtain BoW from your function\n",
    "bow = get_bow_from_docs(docs)\n",
    "\n",
    "# Print BoW\n",
    "print(bow)"
   ]
  },
  {
   "cell_type": "markdown",
   "metadata": {},
   "source": [
    "If your attempt above is successful, nice work done!\n",
    "\n",
    "Now test your function again with the stop words. In the previous lab we defined the stop words in a large array. In this lab, we'll import the stop words from Scikit-Learn."
   ]
  },
  {
   "cell_type": "code",
   "execution_count": 3,
   "metadata": {},
   "outputs": [
    {
     "name": "stdout",
     "output_type": "stream",
     "text": [
      "frozenset({'always', 'yourselves', 'other', 'should', 'con', 'whereas', 'not', 'then', 'a', 'hundred', 'hereupon', 'few', 'seeming', 'anyone', 'hereafter', 'mine', 'its', 'inc', 'whereupon', 'enough', 'might', 'same', 'down', 'too', 'last', 'no', 'found', 'thin', 'detail', 'anyway', 'until', 'below', 'whereafter', 'an', 'above', 'everywhere', 'me', 'wherever', 'before', 'has', 'had', 'twenty', 'us', 'some', 'why', 'fill', 'becomes', 'four', 'three', 'besides', 'into', 'whole', 'how', 'one', 'to', 'cant', 'although', 'whereby', 'others', 'whence', 'perhaps', 'otherwise', 'show', 'among', 'would', 'themselves', 'any', 'put', 'six', 'do', 'front', 'seemed', 'moreover', 'along', 'are', 'part', 'ten', 'ever', 'therein', 'hers', 'eg', 'amoungst', 'beforehand', 'nowhere', 'neither', 'own', 'during', 'together', 'five', 'next', 'made', 'go', 'the', 'ours', 'there', 'at', 'beside', 'been', 'nothing', 'of', 'thereafter', 'thence', 'were', 'etc', 'beyond', 'twelve', 'both', 'being', 'myself', 'though', 'several', 'full', 'else', 'who', 'sometime', 'ourselves', 'side', 'whoever', 'mostly', 'amongst', 'all', 'none', 'which', 'seems', 'thereby', 'rather', 'or', 'system', 'describe', 'with', 'behind', 'ie', 'herein', 'our', 'off', 'becoming', 'thru', 'whither', 'everything', 'between', 'elsewhere', 'became', 'get', 'across', 'that', 'anyhow', 'name', 'such', 'also', 'for', 'never', 'what', 'ltd', 'upon', 'couldnt', 'someone', 'whenever', 'yourself', 'sometimes', 'within', 'eleven', 'interest', 'anywhere', 'done', 'can', 'may', 'first', 'seem', 'throughout', 'in', 'wherein', 'indeed', 'more', 'we', 'him', 'two', 'nobody', 'somehow', 'than', 'have', 'now', 'she', 'namely', 'still', 'anything', 'latterly', 'but', 'find', 'their', 'fifty', 'empty', 'about', 'once', 'toward', 'each', 'sixty', 'itself', 'against', 'out', 'whose', 'her', 'un', 'cry', 'those', 'yours', 'very', 'i', 'already', 'nine', 'former', 'via', 'where', 'something', 'hasnt', 'by', 'least', 'you', 'thus', 'them', 'bill', 'from', 'whom', 'almost', 'less', 'much', 'towards', 'become', 'up', 'well', 'bottom', 'herself', 'on', 'except', 'thereupon', 'these', 'it', 'without', 'because', 'serious', 'often', 'must', 'formerly', 'after', 'if', 're', 'as', 'sincere', 'his', 'only', 'cannot', 'hereby', 'here', 'most', 'while', 'himself', 'whatever', 'around', 'your', 'through', 'third', 'further', 'they', 'since', 'move', 'either', 'alone', 'give', 'afterwards', 'due', 'please', 'however', 'even', 'under', 'meanwhile', 'onto', 'de', 'everyone', 'see', 'so', 'whether', 'forty', 'mill', 'is', 'latter', 'top', 'co', 'nevertheless', 'somewhere', 'fifteen', 'he', 'eight', 'call', 'every', 'am', 'thick', 'will', 'yet', 'be', 'back', 'hence', 'noone', 'per', 'take', 'when', 'keep', 'was', 'my', 'over', 'this', 'another', 'could', 'nor', 'again', 'amount', 'and', 'fire', 'many', 'therefore'})\n"
     ]
    }
   ],
   "source": [
    "from sklearn.feature_extraction import stop_words\n",
    "print(stop_words.ENGLISH_STOP_WORDS)"
   ]
  },
  {
   "cell_type": "markdown",
   "metadata": {},
   "source": [
    "You should have seen a large list of words that looks like:\n",
    "\n",
    "```frozenset({'across', 'mine', 'cannot', ...})```\n",
    "\n",
    "`frozenset` is a type of Python object that is immutable. In this lab you can use it just like an array without conversion."
   ]
  },
  {
   "cell_type": "markdown",
   "metadata": {},
   "source": [
    "Next, test your function with supplying `stop_words.ENGLISH_STOP_WORDS` as the second parameter."
   ]
  },
  {
   "cell_type": "code",
   "execution_count": 4,
   "metadata": {},
   "outputs": [
    {
     "name": "stdout",
     "output_type": "stream",
     "text": [
      "{'bag_of_words': ['ironhack', 'cool', 'love', 'student'], 'term_freq': [[1, 1, 0, 0], [1, 0, 1, 0], [1, 0, 0, 1]]}\n"
     ]
    }
   ],
   "source": [
    "bow = get_bow_from_docs(docs, stop_words.ENGLISH_STOP_WORDS)\n",
    "\n",
    "print(bow)"
   ]
  },
  {
   "cell_type": "markdown",
   "metadata": {},
   "source": [
    "You should have seen:\n",
    "\n",
    "```{'bag_of_words': ['ironhack', 'cool', 'love', 'student'], 'term_freq': [[1, 1, 0, 0], [1, 0, 1, 0], [1, 0, 0, 1]]}```"
   ]
  }
 ],
 "metadata": {
  "kernelspec": {
   "display_name": "Python 3",
   "language": "python",
   "name": "python3"
  },
  "language_info": {
   "codemirror_mode": {
    "name": "ipython",
    "version": 3
   },
   "file_extension": ".py",
   "mimetype": "text/x-python",
   "name": "python",
   "nbconvert_exporter": "python",
   "pygments_lexer": "ipython3",
   "version": "3.7.3"
  }
 },
 "nbformat": 4,
 "nbformat_minor": 2
}
