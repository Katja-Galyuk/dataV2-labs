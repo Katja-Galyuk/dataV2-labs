{
 "cells": [
  {
   "cell_type": "markdown",
   "metadata": {},
   "source": [
    "# Introduction To Probability\n",
    "## Challenge 1\n",
    "\n",
    "A and B are events of a probability space with $(\\omega, \\sigma, P)$ such that $P(A) = 0.3$, $P(B) = 0.6$ and $P(A \\cap B) = 0.1$\n",
    "\n",
    "Which of the following statements are false?\n",
    "* $P(A \\cup B) = 0.6$\n",
    "* $P(A \\cap B^{C}) = 0.2$\n",
    "* $P(A \\cap (B \\cup B^{C})) = 0.4$\n",
    "* $P(A^{C} \\cap B^{C}) = 0.3$\n",
    "* $P((A \\cap B)^{C}) = 0.9$"
   ]
  },
  {
   "cell_type": "code",
   "execution_count": null,
   "metadata": {},
   "outputs": [],
   "source": [
    "\"\"\"\n",
    "\n",
    "1.  False\n",
    "P(A U B) = P(A) + P(B) - P(A ∩ B) = 0.3 + 0.6 - 0.1 = 0.8\n",
    "\n",
    "2. True\n",
    "𝑃(𝐴 ∩ 𝐵^c) = 0.3 - 0.1 = 0.2\n",
    "\n",
    "3. False \n",
    "𝑃(𝐴∩(𝐵∪𝐵^c)) = P(𝐴∩(sample space)) = P(A) = 0.3\n",
    "\n",
    "4. False\n",
    "𝑃(𝐴^c ∩ 𝐵^c) = (A U B)^c = 0\n",
    "\n",
    "5. True\n",
    "𝑃((𝐴∩𝐵)^𝐶) = 0.9\n",
    "\n",
    "\"\"\""
   ]
  },
  {
   "cell_type": "markdown",
   "metadata": {},
   "source": [
    "## Challenge 2\n",
    "There is a box with 10 white balls, 12 red balls and 8 black balls. Calculate the probability of:\n",
    "* Taking a white ball out.\n",
    "* Taking a white ball out after taking a black ball out.\n",
    "* Taking a red ball out after taking a black and a red ball out.\n",
    "* Taking a red ball out after taking a black and a red ball out with reposition.\n",
    "\n",
    "**Hint**: Reposition means putting back the ball into the box after taking it out."
   ]
  },
  {
   "cell_type": "code",
   "execution_count": null,
   "metadata": {},
   "outputs": [],
   "source": [
    "\"\"\"\n",
    "P(W) = 10/(10+12+8) = 10/30 = 1/3 \n",
    "P(W∩B) = (8/30) * (10/29) \n",
    "P(R∩B∩R) = (8/30) * (12/29) * (11/28) \n",
    "P(R∩B∩R) = (8/30) * (12/30) * (12/30) = 3/5 \n",
    "\"\"\""
   ]
  },
  {
   "cell_type": "markdown",
   "metadata": {},
   "source": [
    "## Challenge 3\n",
    "\n",
    "You are planning to go on a picnic today but the morning is cloudy. You hate rain so you don't know whether to go out or stay home! To help you make a decision, you gather the following data about rainy days:\n",
    "\n",
    "* 50% of all rainy days start off cloudy!\n",
    "* Cloudy mornings are common. About 40% of days start cloudy. \n",
    "* This month is usually dry so only 3 of 30 days (10%) tend to be rainy. \n",
    "\n",
    "What is the chance of rain during the day?"
   ]
  },
  {
   "cell_type": "code",
   "execution_count": null,
   "metadata": {},
   "outputs": [],
   "source": [
    "\"\"\"\n",
    "Probability of a rainy day:\n",
    "A = 0.1 \n",
    "\n",
    "Probabilty of cloudiness:\n",
    "B = 0.4 \n",
    "\n",
    "Probability of the day beginning cloudy given that it rained later in the day:\n",
    "P(B|A) = 0.5 \n",
    "\n",
    "Probability of raining today given that it was cloudy in the morning:\n",
    "P(A|B) = P(B|A)*P(A)/P(B) = 0.5*0.1)/0.4 = 0.125\n",
    "\n",
    "\n",
    "\"\"\"\n",
    "\n",
    "\n"
   ]
  },
  {
   "cell_type": "markdown",
   "metadata": {},
   "source": [
    "## Challenge 4\n",
    "\n",
    "One thousand people were asked through a telephone survey whether they thought more street lighting is needed at night or not.\n",
    "\n",
    "Out of the 480 men that answered the survey, 324 said yes and 156 said no. On the other hand, out of the 520 women that answered, 351 said yes and 169 said no. \n",
    "\n",
    "We wonder if men and women have a different opinions about the street lighting matter. Is gender relevant or irrelevant to the question?\n",
    "\n",
    "Consider the following events:\n",
    "- The answer is yes, so the person that answered thinks that more street lighting is needed.\n",
    "- The person who answered is a man.\n",
    "\n",
    "We want to know if these events are independent, that is, if the fact of wanting more light depends on whether one is male or female. Are these events independent or not?\n",
    "\n",
    "**Hint**: To clearly compare the answers by gender, it is best to place the data in a table."
   ]
  },
  {
   "cell_type": "code",
   "execution_count": 6,
   "metadata": {},
   "outputs": [
    {
     "data": {
      "text/html": [
       "<div>\n",
       "<style scoped>\n",
       "    .dataframe tbody tr th:only-of-type {\n",
       "        vertical-align: middle;\n",
       "    }\n",
       "\n",
       "    .dataframe tbody tr th {\n",
       "        vertical-align: top;\n",
       "    }\n",
       "\n",
       "    .dataframe thead th {\n",
       "        text-align: right;\n",
       "    }\n",
       "</style>\n",
       "<table border=\"1\" class=\"dataframe\">\n",
       "  <thead>\n",
       "    <tr style=\"text-align: right;\">\n",
       "      <th></th>\n",
       "      <th>Gender</th>\n",
       "      <th>Yes</th>\n",
       "      <th>No</th>\n",
       "      <th>Total</th>\n",
       "    </tr>\n",
       "  </thead>\n",
       "  <tbody>\n",
       "    <tr>\n",
       "      <th>0</th>\n",
       "      <td>Men</td>\n",
       "      <td>324</td>\n",
       "      <td>156</td>\n",
       "      <td>480</td>\n",
       "    </tr>\n",
       "    <tr>\n",
       "      <th>1</th>\n",
       "      <td>Women</td>\n",
       "      <td>351</td>\n",
       "      <td>169</td>\n",
       "      <td>520</td>\n",
       "    </tr>\n",
       "    <tr>\n",
       "      <th>2</th>\n",
       "      <td>Total</td>\n",
       "      <td>675</td>\n",
       "      <td>325</td>\n",
       "      <td>1000</td>\n",
       "    </tr>\n",
       "  </tbody>\n",
       "</table>\n",
       "</div>"
      ],
      "text/plain": [
       "  Gender  Yes   No  Total\n",
       "0    Men  324  156    480\n",
       "1  Women  351  169    520\n",
       "2  Total  675  325   1000"
      ]
     },
     "execution_count": 6,
     "metadata": {},
     "output_type": "execute_result"
    }
   ],
   "source": [
    "# your code here\n",
    "import pandas as pd\n",
    "\n",
    "d = {'Answer': ['Yes', 'No'], 'Man': [324, 156], 'Women': [351, 169]}\n",
    "df = pd.DataFrame(data=d)\n",
    "df.set_index('Answer', inplace=True)\n",
    "df[\"sum\"] = df.sum(axis=1)\n",
    "df\n",
    "\n",
    "\n",
    "import pandas as pd\n",
    "import numpy as np\n",
    "#table = pd.DataFrame()M = 480\n",
    "\n",
    "\n",
    "men = 480\n",
    "women = 520\n",
    "men_y = 324\n",
    "men_n = 156\n",
    "women_y = 351\n",
    "women_n = 169\n",
    "yes=men_y+women_y\n",
    "no=men_n+women_n\n",
    "\n",
    "\n",
    "\n",
    "data = [['Men', men_y, men_n, men], ['Women', women_y, women_n, women], ['Total', yes, no, men+women]] \n",
    "  \n",
    "df = pd.DataFrame(data, columns = ['Gender', 'Yes', 'No', \"Total\"]) \n",
    "df\n"
   ]
  },
  {
   "cell_type": "code",
   "execution_count": null,
   "metadata": {},
   "outputs": [],
   "source": [
    "'''\n",
    "P(yes) = 675/1000 = 0.675\n",
    "P(male) = 480 / 1000 = 0.48\n",
    "P(yes|male) = 0.48\n",
    "The events seem to be independent since the probability  for both 'yes' and 'male yes' is the same''"
   ]
  },
  {
   "cell_type": "code",
   "execution_count": null,
   "metadata": {},
   "outputs": [],
   "source": []
  }
 ],
 "metadata": {
  "kernelspec": {
   "display_name": "Python 3",
   "language": "python",
   "name": "python3"
  },
  "language_info": {
   "codemirror_mode": {
    "name": "ipython",
    "version": 3
   },
   "file_extension": ".py",
   "mimetype": "text/x-python",
   "name": "python",
   "nbconvert_exporter": "python",
   "pygments_lexer": "ipython3",
   "version": "3.7.3"
  }
 },
 "nbformat": 4,
 "nbformat_minor": 2
}
